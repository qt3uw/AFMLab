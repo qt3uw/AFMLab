{
 "cells": [
  {
   "metadata": {},
   "cell_type": "markdown",
   "source": "# QT3 AFM Lab Image Processing Software Demo",
   "id": "531aa0fb8fbc1f66"
  },
  {
   "metadata": {},
   "cell_type": "markdown",
   "source": [
    "Build the Thorlabs Educational Atomic Force Microspce according to the provided manual.\n",
    "Understand the steps to engage the probe with the sample. \n"
   ],
   "id": "21ac96ad9d971e28"
  },
  {
   "metadata": {},
   "cell_type": "markdown",
   "source": "Take a scan of the supplied microstructure in Constant Force mode with Strain Gauge and with 100px resolution at 100pps. The resolution of this image is not important because this image is only for locating features. Once you see the feature you would like to look at closer, stop the scan and use the Zoom feature to take a closer scan of the desired feature with 250px resolution. If you need to restart the zoom scan, you have to reselect the zoom window because the start coordinates of the scan are not saved.",
   "id": "181ea0004533ed58"
  },
  {
   "metadata": {},
   "cell_type": "code",
   "outputs": [],
   "execution_count": null,
   "source": "",
   "id": "2172e4001ea6ec67"
  },
  {
   "metadata": {},
   "cell_type": "markdown",
   "source": "",
   "id": "208f125452be2b0e"
  }
 ],
 "metadata": {
  "kernelspec": {
   "display_name": "Python 3",
   "language": "python",
   "name": "python3"
  },
  "language_info": {
   "codemirror_mode": {
    "name": "ipython",
    "version": 2
   },
   "file_extension": ".py",
   "mimetype": "text/x-python",
   "name": "python",
   "nbconvert_exporter": "python",
   "pygments_lexer": "ipython2",
   "version": "2.7.6"
  }
 },
 "nbformat": 4,
 "nbformat_minor": 5
}
