{
 "cells": [
  {
   "cell_type": "markdown",
   "id": "531aa0fb8fbc1f66",
   "metadata": {},
   "source": [
    "# QT3 AFM Lab Image Processing Software Demo"
   ]
  },
  {
   "cell_type": "markdown",
   "id": "21ac96ad9d971e28",
   "metadata": {},
   "source": [
    "Build the Thorlabs Educational Atomic Force Microscope according to the provided manual. Understand the steps to align the laser beam onto the probe and engage the probe with the sample. \n",
    "\n",
    "##### Tips for aligning the laser\n",
    "Find the base of the cantilever where it meets the chip. Align as best as possible along the axis perpendicular to the cantilever. Move along the cantilever, recentering the beam as it becomes misaligned, until the beam is well on the far half of the cantilever, but still a safe distance from the tip. Make small adjustments on both mounts so that the beam is circular and centered in the diffusion lens.\n",
    "##### Tips for engaging the probe\n",
    "When engaging the probe with a real sample (not the microstructure), it's a good idea to make sure the surrounding surface is a similar height. Once you are engaged with the sample at 25V, walk the stage a few ticks in both directions for the x and y axes, stopping to lower the stage if the voltage drops below 25V. The surrounding surface can go above 25V but should not go significantly lower than 25V."
   ]
  },
  {
   "cell_type": "markdown",
   "id": "fbb86079bc1e02a6",
   "metadata": {},
   "source": [
    "#### Taking an AFM scan and saving the file\n",
    "Once the probe properly is engaged with the sample, take scans in Constant Force mode and observe the effect of different scan parameters such as Strain Gauge and resolution. Once a scan is complete, save the data as both an image and a csv file to an appropriate folder using the following format: \n",
    "###### parameter1Value1_parameter2Value2_parameter3Value3 (eg. nameMyScan_res250_speed100_modeConstantForce_straingauge)\n",
    "This format is necessary for the software to identify the parameters of the scan. A parameter should be added to the file name if it is different from the default value. The parameters and default values are as according to the attributes defined in the ScanData class. Make sure you record each parameter correctly and with the correct spelling. Recommended order is according to how each is listed in the class, but order does not affect the operation of the software. Capitalization is optional but helpful for reading. Parameters that are either on or off only need to be in the file name if they are on for the scan and need only the parameter and no value. The last four attributes are not used in naming the file. Scans should be placed in the same folder if the data will be compared to one another"
   ]
  },
  {
   "cell_type": "markdown",
   "id": "181ea0004533ed58",
   "metadata": {},
   "source": [
    "#### Identify and image features\n",
    "Take a scan of the supplied microstructure in Constant Force mode with Strain Gauge and with 100px resolution at 100pps. The resolution of this image is not important because this scan is only for locating features. Once you see the feature you would like to look at closer, stop the scan and use the Zoom feature to take a closer scan of the desired feature with 250px resolution. Use the shift key while dragging to make sure you are taking a square window. If you need to restart the zoom scan, you have to reselect the zoom window because the start coordinates of the scan are not saved. When saving the data for a zoom scan, make sure to record the width of the zoom window to the file name using the width parameter (width3.0 corresponds to a zoom window of 3 microns by 3 microns)."
   ]
  },
  {
   "cell_type": "markdown",
   "id": "52586a95c48f1c03",
   "metadata": {},
   "source": [
    "#### Using the software\n",
    "Import the necessary libraries and functions from the scandata file. Get scan data from your folder."
   ]
  },
  {
   "cell_type": "code",
   "id": "2172e4001ea6ec67",
   "metadata": {},
   "source": [
    "from matplotlib import pyplot as plt\n",
    "import numpy as np\n",
    "\n",
    "from scandata import get_scan_data_from_directory, get_step_volts_for_calibration\n",
    "\n",
    "afmscans = get_scan_data_from_directory('FunScans', includes=['Spore'])"
   ],
   "outputs": [],
   "execution_count": null
  },
  {
   "cell_type": "markdown",
   "id": "ec22447fdb9a405f",
   "metadata": {},
   "source": [
    "Calibrate the height by calculating the volts per nm factor. Make sure this value is reasonable."
   ]
  },
  {
   "cell_type": "code",
   "id": "6c28df40a038ffcc",
   "metadata": {},
   "source": [
    "volts = []\n",
    "for afmscan in afmscans:\n",
    "    volts.append(afmscan.get_edge().data_slice)\n",
    "\n",
    "step_voltage = get_step_volts_for_calibration(volts)\n",
    "\n",
    "for afmscan in afmscans:\n",
    "    afmscan.cf_calibrate = step_voltage / 114\n",
    "\n",
    "print(afmscans[0].cf_calibrate)"
   ],
   "outputs": [],
   "execution_count": null
  },
  {
   "cell_type": "markdown",
   "id": "53fcbc58b1b9480b",
   "metadata": {},
   "source": [
    "Plot afm images and horizontal slices to see what the surface of the sample looks like. When looking at the color axis, it's important to remember that a smaller voltage means a larger height dispacement. The default location of slice for get_edge() is the middle of the image, but if you want to look at a different slice of the image, use the y-axis coordinates to choose the section of the image you want using get_edge(y_coord= )."
   ]
  },
  {
   "cell_type": "code",
   "id": "f0d76b70dbf7f756",
   "metadata": {},
   "source": [
    "scan = afmscans[4]\n",
    "scan.plot_afm_image().get_edge().volt_to_height().tilt_correct().plot_edge()"
   ],
   "outputs": [],
   "execution_count": null
  },
  {
   "cell_type": "markdown",
   "id": "ae8ebaa37544437c",
   "metadata": {},
   "source": [
    "Plot an edge of each file to locate the coordinates of the step. For each edge, record the top and bottom coordinates of the step using the graph. Lists of coordinates of maxima and minima are provided to make this easier. It is helpful to separate the coordinates into forward and backward scans."
   ]
  },
  {
   "cell_type": "code",
   "id": "f3fd00b1fb9776aa",
   "metadata": {},
   "source": [
    "steps = []\n",
    "back_steps = []\n",
    "\n",
    "for afmscan in afmscans:\n",
    "    print(\"Backward Scan: \" + str(afmscan.backward))\n",
    "    afmscan.get_edge().volt_to_height().find_features().plot_edge()\n",
    "    plt.show()\n",
    "    top = float(input(\"Top Coordinate: \"))\n",
    "    bottom = float(input(\"Bottom Coordinate: \"))\n",
    "    if afmscan.backward:\n",
    "        back_steps.append((top, bottom))\n",
    "    else:\n",
    "        steps.append((top, bottom))\n",
    "\n",
    "print('steps: ', steps, 'back_steps: ', back_steps, sep='\\n')"
   ],
   "outputs": [],
   "execution_count": null
  },
  {
   "cell_type": "markdown",
   "id": "d51ff0e1f1ff9578",
   "metadata": {},
   "source": [
    "Using the lists of tuples you created, plot the step width and rms noise for each scan against the scan speed."
   ]
  },
  {
   "cell_type": "code",
   "id": "a0ba325bf6a78ef3",
   "metadata": {},
   "source": [
    "# steps = [(0.8704, 0.6868), (1.0584, 0.8496), (1.0888, 0.908), (0.9792, 0.7632), (0.8132, 0.6384), (0.8092, 0.6256),\n",
    "#          (1.1456, 0.9664), (0.8496, 0.6336), (0.9984, 0.6784), (0.7104, 0.4352), (1.5408, 1.296), (1.2528, 1.0728),\n",
    "#          (0.64, 0.4544)]\n",
    "# back_steps = [(0.816, 0.6324), (0.9936, 0.7848), (0.9996, 0.8092), (0.8784, 0.6768), (0.7828, 0.5244), (0.8364, 0.6256),\n",
    "#               (1.0688, 0.8512), (0.7344, 0.5328), (0.896, 0.5952), (0.5824, 0.3136), (1.5192, 1.3464), (1.224, 1.044),\n",
    "#               (0.608, 0.4224)]\n",
    "\n",
    "# empty lists for plotting\n",
    "step_widths, back_step_widths, scan_speeds, back_scan_speeds, scan_rms, back_scan_rms, scan_pid, back_scan_pid \\\n",
    "    = [[] for _ in range(8)]\n",
    "# create plots\n",
    "fig = plt.figure()\n",
    "ax1 = plt.subplot2grid(shape=(2, 2), loc=(0, 0), colspan=2)\n",
    "ax2 = plt.subplot2grid(shape=(2, 2), loc=(1, 0))\n",
    "ax3 = plt.subplot2grid(shape=(2, 2), loc=(1, 1))\n",
    "axs = (ax1, ax2, ax3)\n",
    "[ax.grid(True) for ax in axs]\n",
    "# fill empty lists with data and plot the edge\n",
    "for afmscan, step in zip(afmscans, [item for pair in zip(steps, back_steps) for item in pair]):\n",
    "    afmscan.get_edge().volt_to_height().tilt_correct((0, step[1]))\n",
    "    # backward scans\n",
    "    if afmscan.backward:\n",
    "        back_scan_speeds.append(afmscan.speed)\n",
    "        back_step_widths.append(afmscan.get_step_width(step))\n",
    "        back_scan_rms.append(afmscan.get_noise((0, step[1])))\n",
    "        back_scan_pid.append(afmscan.pid[0])\n",
    "    # forward scans\n",
    "    else:\n",
    "        scan_speeds.append(afmscan.speed)\n",
    "        step_widths.append(afmscan.get_step_width(step))\n",
    "        scan_rms.append(afmscan.get_noise((0, step[1])))\n",
    "        scan_pid.append(afmscan.pid[0])\n",
    "    # plot slice of edge\n",
    "    ax1.plot(np.linspace(0, afmscan.width, afmscan.res), afmscan.denoise())\n",
    "\n",
    "ax1.set_title('Edge Resolution')\n",
    "ax1.set_xlabel('x [microns]')\n",
    "ax1.set_ylabel('height [nm]')\n",
    "\n",
    "# plot step width against scan speed\n",
    "[ax2.scatter(x, y, label=direction) for x, y, direction in\n",
    " zip([scan_speeds, back_scan_speeds], [step_widths, back_step_widths], ['forward', 'backward'])]\n",
    "ax2.set_title('Step Widths')\n",
    "ax2.set_xlabel('scan speeds [pps]')\n",
    "ax2.set_ylabel('step width [microns]')\n",
    "ax2.legend()\n",
    "# plot rms noise against scan speed\n",
    "[ax3.scatter(x, y, label=direction) for x, y, direction in\n",
    " zip([scan_speeds, back_scan_speeds], [scan_rms, back_scan_rms], ['forward', 'backward'])]\n",
    "ax3.set_title('RMS Noise')\n",
    "ax3.set_xlabel('scan speeds [pps]')\n",
    "ax3.set_ylabel('rms [nm]')\n",
    "ax3.legend()\n",
    "\n",
    "plt.show()"
   ],
   "outputs": [],
   "execution_count": null
  },
  {
   "cell_type": "markdown",
   "id": "b287f76a850bc4a6",
   "metadata": {},
   "source": [
    "Observe any patterns in step width and rms noise as the scan speed changes"
   ]
  },
  {
   "cell_type": "code",
   "id": "2c33c3f75a5245f1",
   "metadata": {},
   "source": [],
   "outputs": [],
   "execution_count": null
  }
 ],
 "metadata": {
  "kernelspec": {
   "display_name": "Python 3 (ipykernel)",
   "language": "python",
   "name": "python3"
  },
  "language_info": {
   "codemirror_mode": {
    "name": "ipython",
    "version": 3
   },
   "file_extension": ".py",
   "mimetype": "text/x-python",
   "name": "python",
   "nbconvert_exporter": "python",
   "pygments_lexer": "ipython3",
   "version": "3.12.4"
  }
 },
 "nbformat": 4,
 "nbformat_minor": 5
}
